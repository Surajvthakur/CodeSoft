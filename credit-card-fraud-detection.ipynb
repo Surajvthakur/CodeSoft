{
 "cells": [
  {
   "cell_type": "code",
   "execution_count": 1,
   "id": "e1dcfb1f",
   "metadata": {
    "_cell_guid": "b1076dfc-b9ad-4769-8c92-a6c4dae69d19",
    "_uuid": "8f2839f25d086af736a60e9eeb907d3b93b6e0e5",
    "execution": {
     "iopub.execute_input": "2024-12-24T06:50:34.816826Z",
     "iopub.status.busy": "2024-12-24T06:50:34.816497Z",
     "iopub.status.idle": "2024-12-24T06:50:35.157143Z",
     "shell.execute_reply": "2024-12-24T06:50:35.156007Z"
    },
    "papermill": {
     "duration": 0.350244,
     "end_time": "2024-12-24T06:50:35.158870",
     "exception": false,
     "start_time": "2024-12-24T06:50:34.808626",
     "status": "completed"
    },
    "tags": []
   },
   "outputs": [
    {
     "name": "stdout",
     "output_type": "stream",
     "text": [
      "/kaggle/input/fraud-detection/fraudTest.csv\n",
      "/kaggle/input/fraud-detection/fraudTrain.csv\n"
     ]
    }
   ],
   "source": [
    "# This Python 3 environment comes with many helpful analytics libraries installed\n",
    "# It is defined by the kaggle/python Docker image: https://github.com/kaggle/docker-python\n",
    "# For example, here's several helpful packages to load\n",
    "\n",
    "import numpy as np # linear algebra\n",
    "import pandas as pd # data processing, CSV file I/O (e.g. pd.read_csv)\n",
    "\n",
    "# Input data files are available in the read-only \"../input/\" directory\n",
    "# For example, running this (by clicking run or pressing Shift+Enter) will list all files under the input directory\n",
    "\n",
    "import os\n",
    "for dirname, _, filenames in os.walk('/kaggle/input'):\n",
    "    for filename in filenames:\n",
    "        print(os.path.join(dirname, filename))\n",
    "\n",
    "# You can write up to 20GB to the current directory (/kaggle/working/) that gets preserved as output when you create a version using \"Save & Run All\" \n",
    "# You can also write temporary files to /kaggle/temp/, but they won't be saved outside of the current session"
   ]
  },
  {
   "cell_type": "code",
   "execution_count": 2,
   "id": "f32a18c2",
   "metadata": {
    "execution": {
     "iopub.execute_input": "2024-12-24T06:50:35.171792Z",
     "iopub.status.busy": "2024-12-24T06:50:35.171448Z",
     "iopub.status.idle": "2024-12-24T06:50:36.679194Z",
     "shell.execute_reply": "2024-12-24T06:50:36.678431Z"
    },
    "papermill": {
     "duration": 1.51567,
     "end_time": "2024-12-24T06:50:36.680870",
     "exception": false,
     "start_time": "2024-12-24T06:50:35.165200",
     "status": "completed"
    },
    "tags": []
   },
   "outputs": [],
   "source": [
    "# Import necessary libraries\n",
    "\n",
    "import numpy as np\n",
    "import pandas as pd\n",
    "import matplotlib.pyplot as plt\n",
    "\n",
    "from sklearn.preprocessing import LabelEncoder\n",
    "from sklearn.model_selection import train_test_split\n",
    "from sklearn.linear_model import LogisticRegression\n",
    "from sklearn.tree import DecisionTreeClassifier\n",
    "from sklearn.ensemble import RandomForestClassifier\n",
    "from sklearn.metrics import accuracy_score,classification_report\n",
    "import warnings\n",
    "\n",
    "warnings.filterwarnings('ignore')"
   ]
  },
  {
   "cell_type": "code",
   "execution_count": 3,
   "id": "37a37293",
   "metadata": {
    "execution": {
     "iopub.execute_input": "2024-12-24T06:50:36.693403Z",
     "iopub.status.busy": "2024-12-24T06:50:36.693014Z",
     "iopub.status.idle": "2024-12-24T06:50:52.629618Z",
     "shell.execute_reply": "2024-12-24T06:50:52.628839Z"
    },
    "papermill": {
     "duration": 15.94455,
     "end_time": "2024-12-24T06:50:52.631396",
     "exception": false,
     "start_time": "2024-12-24T06:50:36.686846",
     "status": "completed"
    },
    "tags": []
   },
   "outputs": [],
   "source": [
    "# Load the dataset\n",
    "\n",
    "train_data = pd.read_csv('/kaggle/input/fraud-detection/fraudTrain.csv')\n",
    "\n",
    "test_data = pd.read_csv('/kaggle/input/fraud-detection/fraudTest.csv')"
   ]
  },
  {
   "cell_type": "code",
   "execution_count": 4,
   "id": "ed754b43",
   "metadata": {
    "execution": {
     "iopub.execute_input": "2024-12-24T06:50:52.643988Z",
     "iopub.status.busy": "2024-12-24T06:50:52.643681Z",
     "iopub.status.idle": "2024-12-24T06:50:53.383657Z",
     "shell.execute_reply": "2024-12-24T06:50:53.382547Z"
    },
    "papermill": {
     "duration": 0.747796,
     "end_time": "2024-12-24T06:50:53.385262",
     "exception": false,
     "start_time": "2024-12-24T06:50:52.637466",
     "status": "completed"
    },
    "tags": []
   },
   "outputs": [
    {
     "name": "stdout",
     "output_type": "stream",
     "text": [
      "<class 'pandas.core.frame.DataFrame'>\n",
      "RangeIndex: 1296675 entries, 0 to 1296674\n",
      "Data columns (total 23 columns):\n",
      " #   Column                 Non-Null Count    Dtype  \n",
      "---  ------                 --------------    -----  \n",
      " 0   Unnamed: 0             1296675 non-null  int64  \n",
      " 1   trans_date_trans_time  1296675 non-null  object \n",
      " 2   cc_num                 1296675 non-null  int64  \n",
      " 3   merchant               1296675 non-null  object \n",
      " 4   category               1296675 non-null  object \n",
      " 5   amt                    1296675 non-null  float64\n",
      " 6   first                  1296675 non-null  object \n",
      " 7   last                   1296675 non-null  object \n",
      " 8   gender                 1296675 non-null  object \n",
      " 9   street                 1296675 non-null  object \n",
      " 10  city                   1296675 non-null  object \n",
      " 11  state                  1296675 non-null  object \n",
      " 12  zip                    1296675 non-null  int64  \n",
      " 13  lat                    1296675 non-null  float64\n",
      " 14  long                   1296675 non-null  float64\n",
      " 15  city_pop               1296675 non-null  int64  \n",
      " 16  job                    1296675 non-null  object \n",
      " 17  dob                    1296675 non-null  object \n",
      " 18  trans_num              1296675 non-null  object \n",
      " 19  unix_time              1296675 non-null  int64  \n",
      " 20  merch_lat              1296675 non-null  float64\n",
      " 21  merch_long             1296675 non-null  float64\n",
      " 22  is_fraud               1296675 non-null  int64  \n",
      "dtypes: float64(5), int64(6), object(12)\n",
      "memory usage: 227.5+ MB\n"
     ]
    }
   ],
   "source": [
    "train_data.info()"
   ]
  },
  {
   "cell_type": "code",
   "execution_count": 5,
   "id": "0e7972a1",
   "metadata": {
    "execution": {
     "iopub.execute_input": "2024-12-24T06:50:53.397699Z",
     "iopub.status.busy": "2024-12-24T06:50:53.397449Z",
     "iopub.status.idle": "2024-12-24T06:50:54.091917Z",
     "shell.execute_reply": "2024-12-24T06:50:54.091039Z"
    },
    "papermill": {
     "duration": 0.702194,
     "end_time": "2024-12-24T06:50:54.093426",
     "exception": false,
     "start_time": "2024-12-24T06:50:53.391232",
     "status": "completed"
    },
    "tags": []
   },
   "outputs": [
    {
     "data": {
      "text/plain": [
       "Unnamed: 0               0\n",
       "trans_date_trans_time    0\n",
       "cc_num                   0\n",
       "merchant                 0\n",
       "category                 0\n",
       "amt                      0\n",
       "first                    0\n",
       "last                     0\n",
       "gender                   0\n",
       "street                   0\n",
       "city                     0\n",
       "state                    0\n",
       "zip                      0\n",
       "lat                      0\n",
       "long                     0\n",
       "city_pop                 0\n",
       "job                      0\n",
       "dob                      0\n",
       "trans_num                0\n",
       "unix_time                0\n",
       "merch_lat                0\n",
       "merch_long               0\n",
       "is_fraud                 0\n",
       "dtype: int64"
      ]
     },
     "execution_count": 5,
     "metadata": {},
     "output_type": "execute_result"
    }
   ],
   "source": [
    "# Check for null values\n",
    "\n",
    "train_data.isnull().sum()"
   ]
  },
  {
   "cell_type": "code",
   "execution_count": 6,
   "id": "31563912",
   "metadata": {
    "execution": {
     "iopub.execute_input": "2024-12-24T06:50:54.106038Z",
     "iopub.status.busy": "2024-12-24T06:50:54.105752Z",
     "iopub.status.idle": "2024-12-24T06:50:54.129859Z",
     "shell.execute_reply": "2024-12-24T06:50:54.129010Z"
    },
    "papermill": {
     "duration": 0.031739,
     "end_time": "2024-12-24T06:50:54.131217",
     "exception": false,
     "start_time": "2024-12-24T06:50:54.099478",
     "status": "completed"
    },
    "tags": []
   },
   "outputs": [
    {
     "data": {
      "text/html": [
       "<div>\n",
       "<style scoped>\n",
       "    .dataframe tbody tr th:only-of-type {\n",
       "        vertical-align: middle;\n",
       "    }\n",
       "\n",
       "    .dataframe tbody tr th {\n",
       "        vertical-align: top;\n",
       "    }\n",
       "\n",
       "    .dataframe thead th {\n",
       "        text-align: right;\n",
       "    }\n",
       "</style>\n",
       "<table border=\"1\" class=\"dataframe\">\n",
       "  <thead>\n",
       "    <tr style=\"text-align: right;\">\n",
       "      <th></th>\n",
       "      <th>Unnamed: 0</th>\n",
       "      <th>trans_date_trans_time</th>\n",
       "      <th>cc_num</th>\n",
       "      <th>merchant</th>\n",
       "      <th>category</th>\n",
       "      <th>amt</th>\n",
       "      <th>first</th>\n",
       "      <th>last</th>\n",
       "      <th>gender</th>\n",
       "      <th>street</th>\n",
       "      <th>...</th>\n",
       "      <th>lat</th>\n",
       "      <th>long</th>\n",
       "      <th>city_pop</th>\n",
       "      <th>job</th>\n",
       "      <th>dob</th>\n",
       "      <th>trans_num</th>\n",
       "      <th>unix_time</th>\n",
       "      <th>merch_lat</th>\n",
       "      <th>merch_long</th>\n",
       "      <th>is_fraud</th>\n",
       "    </tr>\n",
       "  </thead>\n",
       "  <tbody>\n",
       "    <tr>\n",
       "      <th>0</th>\n",
       "      <td>0</td>\n",
       "      <td>2019-01-01 00:00:18</td>\n",
       "      <td>2703186189652095</td>\n",
       "      <td>fraud_Rippin, Kub and Mann</td>\n",
       "      <td>misc_net</td>\n",
       "      <td>4.97</td>\n",
       "      <td>Jennifer</td>\n",
       "      <td>Banks</td>\n",
       "      <td>F</td>\n",
       "      <td>561 Perry Cove</td>\n",
       "      <td>...</td>\n",
       "      <td>36.0788</td>\n",
       "      <td>-81.1781</td>\n",
       "      <td>3495</td>\n",
       "      <td>Psychologist, counselling</td>\n",
       "      <td>1988-03-09</td>\n",
       "      <td>0b242abb623afc578575680df30655b9</td>\n",
       "      <td>1325376018</td>\n",
       "      <td>36.011293</td>\n",
       "      <td>-82.048315</td>\n",
       "      <td>0</td>\n",
       "    </tr>\n",
       "    <tr>\n",
       "      <th>1</th>\n",
       "      <td>1</td>\n",
       "      <td>2019-01-01 00:00:44</td>\n",
       "      <td>630423337322</td>\n",
       "      <td>fraud_Heller, Gutmann and Zieme</td>\n",
       "      <td>grocery_pos</td>\n",
       "      <td>107.23</td>\n",
       "      <td>Stephanie</td>\n",
       "      <td>Gill</td>\n",
       "      <td>F</td>\n",
       "      <td>43039 Riley Greens Suite 393</td>\n",
       "      <td>...</td>\n",
       "      <td>48.8878</td>\n",
       "      <td>-118.2105</td>\n",
       "      <td>149</td>\n",
       "      <td>Special educational needs teacher</td>\n",
       "      <td>1978-06-21</td>\n",
       "      <td>1f76529f8574734946361c461b024d99</td>\n",
       "      <td>1325376044</td>\n",
       "      <td>49.159047</td>\n",
       "      <td>-118.186462</td>\n",
       "      <td>0</td>\n",
       "    </tr>\n",
       "    <tr>\n",
       "      <th>2</th>\n",
       "      <td>2</td>\n",
       "      <td>2019-01-01 00:00:51</td>\n",
       "      <td>38859492057661</td>\n",
       "      <td>fraud_Lind-Buckridge</td>\n",
       "      <td>entertainment</td>\n",
       "      <td>220.11</td>\n",
       "      <td>Edward</td>\n",
       "      <td>Sanchez</td>\n",
       "      <td>M</td>\n",
       "      <td>594 White Dale Suite 530</td>\n",
       "      <td>...</td>\n",
       "      <td>42.1808</td>\n",
       "      <td>-112.2620</td>\n",
       "      <td>4154</td>\n",
       "      <td>Nature conservation officer</td>\n",
       "      <td>1962-01-19</td>\n",
       "      <td>a1a22d70485983eac12b5b88dad1cf95</td>\n",
       "      <td>1325376051</td>\n",
       "      <td>43.150704</td>\n",
       "      <td>-112.154481</td>\n",
       "      <td>0</td>\n",
       "    </tr>\n",
       "  </tbody>\n",
       "</table>\n",
       "<p>3 rows × 23 columns</p>\n",
       "</div>"
      ],
      "text/plain": [
       "   Unnamed: 0 trans_date_trans_time            cc_num  \\\n",
       "0           0   2019-01-01 00:00:18  2703186189652095   \n",
       "1           1   2019-01-01 00:00:44      630423337322   \n",
       "2           2   2019-01-01 00:00:51    38859492057661   \n",
       "\n",
       "                          merchant       category     amt      first     last  \\\n",
       "0       fraud_Rippin, Kub and Mann       misc_net    4.97   Jennifer    Banks   \n",
       "1  fraud_Heller, Gutmann and Zieme    grocery_pos  107.23  Stephanie     Gill   \n",
       "2             fraud_Lind-Buckridge  entertainment  220.11     Edward  Sanchez   \n",
       "\n",
       "  gender                        street  ...      lat      long  city_pop  \\\n",
       "0      F                561 Perry Cove  ...  36.0788  -81.1781      3495   \n",
       "1      F  43039 Riley Greens Suite 393  ...  48.8878 -118.2105       149   \n",
       "2      M      594 White Dale Suite 530  ...  42.1808 -112.2620      4154   \n",
       "\n",
       "                                 job         dob  \\\n",
       "0          Psychologist, counselling  1988-03-09   \n",
       "1  Special educational needs teacher  1978-06-21   \n",
       "2        Nature conservation officer  1962-01-19   \n",
       "\n",
       "                          trans_num   unix_time  merch_lat  merch_long  \\\n",
       "0  0b242abb623afc578575680df30655b9  1325376018  36.011293  -82.048315   \n",
       "1  1f76529f8574734946361c461b024d99  1325376044  49.159047 -118.186462   \n",
       "2  a1a22d70485983eac12b5b88dad1cf95  1325376051  43.150704 -112.154481   \n",
       "\n",
       "   is_fraud  \n",
       "0         0  \n",
       "1         0  \n",
       "2         0  \n",
       "\n",
       "[3 rows x 23 columns]"
      ]
     },
     "execution_count": 6,
     "metadata": {},
     "output_type": "execute_result"
    }
   ],
   "source": [
    "train_data.head(3)"
   ]
  },
  {
   "cell_type": "code",
   "execution_count": 7,
   "id": "c72e9a6b",
   "metadata": {
    "execution": {
     "iopub.execute_input": "2024-12-24T06:50:54.144161Z",
     "iopub.status.busy": "2024-12-24T06:50:54.143897Z",
     "iopub.status.idle": "2024-12-24T06:50:54.450570Z",
     "shell.execute_reply": "2024-12-24T06:50:54.449415Z"
    },
    "papermill": {
     "duration": 0.314811,
     "end_time": "2024-12-24T06:50:54.452200",
     "exception": false,
     "start_time": "2024-12-24T06:50:54.137389",
     "status": "completed"
    },
    "tags": []
   },
   "outputs": [
    {
     "name": "stdout",
     "output_type": "stream",
     "text": [
      "<class 'pandas.core.frame.DataFrame'>\n",
      "RangeIndex: 555719 entries, 0 to 555718\n",
      "Data columns (total 23 columns):\n",
      " #   Column                 Non-Null Count   Dtype  \n",
      "---  ------                 --------------   -----  \n",
      " 0   Unnamed: 0             555719 non-null  int64  \n",
      " 1   trans_date_trans_time  555719 non-null  object \n",
      " 2   cc_num                 555719 non-null  int64  \n",
      " 3   merchant               555719 non-null  object \n",
      " 4   category               555719 non-null  object \n",
      " 5   amt                    555719 non-null  float64\n",
      " 6   first                  555719 non-null  object \n",
      " 7   last                   555719 non-null  object \n",
      " 8   gender                 555719 non-null  object \n",
      " 9   street                 555719 non-null  object \n",
      " 10  city                   555719 non-null  object \n",
      " 11  state                  555719 non-null  object \n",
      " 12  zip                    555719 non-null  int64  \n",
      " 13  lat                    555719 non-null  float64\n",
      " 14  long                   555719 non-null  float64\n",
      " 15  city_pop               555719 non-null  int64  \n",
      " 16  job                    555719 non-null  object \n",
      " 17  dob                    555719 non-null  object \n",
      " 18  trans_num              555719 non-null  object \n",
      " 19  unix_time              555719 non-null  int64  \n",
      " 20  merch_lat              555719 non-null  float64\n",
      " 21  merch_long             555719 non-null  float64\n",
      " 22  is_fraud               555719 non-null  int64  \n",
      "dtypes: float64(5), int64(6), object(12)\n",
      "memory usage: 97.5+ MB\n"
     ]
    }
   ],
   "source": [
    "test_data.info()"
   ]
  },
  {
   "cell_type": "code",
   "execution_count": 8,
   "id": "69ca200f",
   "metadata": {
    "execution": {
     "iopub.execute_input": "2024-12-24T06:50:54.466253Z",
     "iopub.status.busy": "2024-12-24T06:50:54.465967Z",
     "iopub.status.idle": "2024-12-24T06:50:54.683864Z",
     "shell.execute_reply": "2024-12-24T06:50:54.682600Z"
    },
    "papermill": {
     "duration": 0.226903,
     "end_time": "2024-12-24T06:50:54.686004",
     "exception": false,
     "start_time": "2024-12-24T06:50:54.459101",
     "status": "completed"
    },
    "tags": []
   },
   "outputs": [],
   "source": [
    "# Combining both training & testing data\n",
    "\n",
    "data = pd.concat([train_data,test_data])"
   ]
  },
  {
   "cell_type": "code",
   "execution_count": 9,
   "id": "c42d61d6",
   "metadata": {
    "execution": {
     "iopub.execute_input": "2024-12-24T06:50:54.708540Z",
     "iopub.status.busy": "2024-12-24T06:50:54.708269Z",
     "iopub.status.idle": "2024-12-24T06:50:54.713422Z",
     "shell.execute_reply": "2024-12-24T06:50:54.712503Z"
    },
    "papermill": {
     "duration": 0.017904,
     "end_time": "2024-12-24T06:50:54.714854",
     "exception": false,
     "start_time": "2024-12-24T06:50:54.696950",
     "status": "completed"
    },
    "tags": []
   },
   "outputs": [
    {
     "data": {
      "text/plain": [
       "(1852394, 23)"
      ]
     },
     "execution_count": 9,
     "metadata": {},
     "output_type": "execute_result"
    }
   ],
   "source": [
    "data.shape"
   ]
  },
  {
   "cell_type": "code",
   "execution_count": 10,
   "id": "e75dc31f",
   "metadata": {
    "execution": {
     "iopub.execute_input": "2024-12-24T06:50:54.728513Z",
     "iopub.status.busy": "2024-12-24T06:50:54.728183Z",
     "iopub.status.idle": "2024-12-24T06:50:55.156113Z",
     "shell.execute_reply": "2024-12-24T06:50:55.155106Z"
    },
    "papermill": {
     "duration": 0.436408,
     "end_time": "2024-12-24T06:50:55.157657",
     "exception": false,
     "start_time": "2024-12-24T06:50:54.721249",
     "status": "completed"
    },
    "tags": []
   },
   "outputs": [
    {
     "data": {
      "text/plain": [
       "{'Unnamed: 0': 0.0005238292595403317,\n",
       " 'cc_num': -0.001124786409159464,\n",
       " 'amt': 0.20930784722972315,\n",
       " 'zip': -0.0021903641196473677,\n",
       " 'lat': 0.0029039410850806545,\n",
       " 'long': 0.0010217606338495074,\n",
       " 'city_pop': 0.00032519441062587527,\n",
       " 'unix_time': -0.013328789485515179,\n",
       " 'merch_lat': 0.002777992413389028,\n",
       " 'merch_long': 0.0009994134859691148}"
      ]
     },
     "execution_count": 10,
     "metadata": {},
     "output_type": "execute_result"
    }
   ],
   "source": [
    "# Let us check how each feature is correlated with the target feature\n",
    "\n",
    "\n",
    "\n",
    "corr_result = {}\n",
    "\n",
    "\n",
    "\n",
    "for col in data.columns:\n",
    "\n",
    "    if data[col].dtype != 'object' and col != 'is_fraud':\n",
    "\n",
    "        corr = data[col].corr(data['is_fraud'])\n",
    "\n",
    "        corr_result[col] = corr\n",
    "\n",
    "        \n",
    "\n",
    "corr_result"
   ]
  },
  {
   "cell_type": "code",
   "execution_count": 11,
   "id": "29d5e646",
   "metadata": {
    "execution": {
     "iopub.execute_input": "2024-12-24T06:50:55.172000Z",
     "iopub.status.busy": "2024-12-24T06:50:55.171700Z",
     "iopub.status.idle": "2024-12-24T06:50:55.362674Z",
     "shell.execute_reply": "2024-12-24T06:50:55.361570Z"
    },
    "papermill": {
     "duration": 0.20003,
     "end_time": "2024-12-24T06:50:55.364790",
     "exception": false,
     "start_time": "2024-12-24T06:50:55.164760",
     "status": "completed"
    },
    "tags": []
   },
   "outputs": [],
   "source": [
    "# Consider only columns necessary for prediction\n",
    "\n",
    "data.drop(columns=['Unnamed: 0','trans_date_trans_time','first','last','gender','street','job','dob','trans_num'],inplace=True)"
   ]
  },
  {
   "cell_type": "code",
   "execution_count": 12,
   "id": "34335ffd",
   "metadata": {
    "execution": {
     "iopub.execute_input": "2024-12-24T06:50:55.389922Z",
     "iopub.status.busy": "2024-12-24T06:50:55.389615Z",
     "iopub.status.idle": "2024-12-24T06:50:55.398345Z",
     "shell.execute_reply": "2024-12-24T06:50:55.397275Z"
    },
    "papermill": {
     "duration": 0.022666,
     "end_time": "2024-12-24T06:50:55.399793",
     "exception": false,
     "start_time": "2024-12-24T06:50:55.377127",
     "status": "completed"
    },
    "tags": []
   },
   "outputs": [
    {
     "name": "stdout",
     "output_type": "stream",
     "text": [
      "<class 'pandas.core.frame.DataFrame'>\n",
      "Index: 1852394 entries, 0 to 555718\n",
      "Data columns (total 14 columns):\n",
      " #   Column      Dtype  \n",
      "---  ------      -----  \n",
      " 0   cc_num      int64  \n",
      " 1   merchant    object \n",
      " 2   category    object \n",
      " 3   amt         float64\n",
      " 4   city        object \n",
      " 5   state       object \n",
      " 6   zip         int64  \n",
      " 7   lat         float64\n",
      " 8   long        float64\n",
      " 9   city_pop    int64  \n",
      " 10  unix_time   int64  \n",
      " 11  merch_lat   float64\n",
      " 12  merch_long  float64\n",
      " 13  is_fraud    int64  \n",
      "dtypes: float64(5), int64(5), object(4)\n",
      "memory usage: 212.0+ MB\n"
     ]
    }
   ],
   "source": [
    "data.info()"
   ]
  },
  {
   "cell_type": "code",
   "execution_count": 13,
   "id": "b2b7952f",
   "metadata": {
    "execution": {
     "iopub.execute_input": "2024-12-24T06:50:55.413625Z",
     "iopub.status.busy": "2024-12-24T06:50:55.413387Z",
     "iopub.status.idle": "2024-12-24T06:50:55.430963Z",
     "shell.execute_reply": "2024-12-24T06:50:55.429987Z"
    },
    "papermill": {
     "duration": 0.026203,
     "end_time": "2024-12-24T06:50:55.432421",
     "exception": false,
     "start_time": "2024-12-24T06:50:55.406218",
     "status": "completed"
    },
    "tags": []
   },
   "outputs": [
    {
     "data": {
      "text/plain": [
       "is_fraud\n",
       "0    1842743\n",
       "1       9651\n",
       "Name: count, dtype: int64"
      ]
     },
     "execution_count": 13,
     "metadata": {},
     "output_type": "execute_result"
    }
   ],
   "source": [
    "# Check class distribution\n",
    "\n",
    "data['is_fraud'].value_counts()"
   ]
  },
  {
   "cell_type": "code",
   "execution_count": 14,
   "id": "343480de",
   "metadata": {
    "execution": {
     "iopub.execute_input": "2024-12-24T06:50:55.446193Z",
     "iopub.status.busy": "2024-12-24T06:50:55.445957Z",
     "iopub.status.idle": "2024-12-24T06:50:55.679751Z",
     "shell.execute_reply": "2024-12-24T06:50:55.678696Z"
    },
    "papermill": {
     "duration": 0.242354,
     "end_time": "2024-12-24T06:50:55.681379",
     "exception": false,
     "start_time": "2024-12-24T06:50:55.439025",
     "status": "completed"
    },
    "tags": []
   },
   "outputs": [
    {
     "data": {
      "image/png": "[encoded data removed]",
      "text/plain": [
       "<Figure size 640x480 with 1 Axes>"
      ]
     },
     "metadata": {},
     "output_type": "display_data"
    }
   ],
   "source": [
    "plt.bar(data['is_fraud'].unique(),data['is_fraud'].value_counts(),width = 0.2)\n",
    "\n",
    "plt.xlabel('Legitimate/Fraud')\n",
    "\n",
    "plt.ylabel('No of transactions')\n",
    "\n",
    "plt.show()"
   ]
  },
  {
   "cell_type": "code",
   "execution_count": 15,
   "id": "7b169ebd",
   "metadata": {
    "execution": {
     "iopub.execute_input": "2024-12-24T06:50:55.696642Z",
     "iopub.status.busy": "2024-12-24T06:50:55.696384Z",
     "iopub.status.idle": "2024-12-24T06:50:55.844394Z",
     "shell.execute_reply": "2024-12-24T06:50:55.843385Z"
    },
    "papermill": {
     "duration": 0.157969,
     "end_time": "2024-12-24T06:50:55.846531",
     "exception": false,
     "start_time": "2024-12-24T06:50:55.688562",
     "status": "completed"
    },
    "tags": []
   },
   "outputs": [],
   "source": [
    "# Separate fraud & legitimate transactions\n",
    "\n",
    "legitimate = data[data['is_fraud'] == 0]\n",
    "\n",
    "fraud = data[data['is_fraud'] == 1]"
   ]
  },
  {
   "cell_type": "code",
   "execution_count": 16,
   "id": "0f0c6dca",
   "metadata": {
    "execution": {
     "iopub.execute_input": "2024-12-24T06:50:55.868412Z",
     "iopub.status.busy": "2024-12-24T06:50:55.868019Z",
     "iopub.status.idle": "2024-12-24T06:50:55.940735Z",
     "shell.execute_reply": "2024-12-24T06:50:55.939717Z"
    },
    "papermill": {
     "duration": 0.082684,
     "end_time": "2024-12-24T06:50:55.942379",
     "exception": false,
     "start_time": "2024-12-24T06:50:55.859695",
     "status": "completed"
    },
    "tags": []
   },
   "outputs": [
    {
     "data": {
      "text/plain": [
       "(9651, 14)"
      ]
     },
     "execution_count": 16,
     "metadata": {},
     "output_type": "execute_result"
    }
   ],
   "source": [
    "# We'll consider only a sample(same number of transactions as fraud) of legitimate transactions\n",
    "\n",
    "legitimate = legitimate.sample(n = len(fraud))\n",
    "\n",
    "legitimate.shape"
   ]
  },
  {
   "cell_type": "code",
   "execution_count": 17,
   "id": "12049904",
   "metadata": {
    "execution": {
     "iopub.execute_input": "2024-12-24T06:50:55.957694Z",
     "iopub.status.busy": "2024-12-24T06:50:55.957339Z",
     "iopub.status.idle": "2024-12-24T06:50:55.962784Z",
     "shell.execute_reply": "2024-12-24T06:50:55.961961Z"
    },
    "papermill": {
     "duration": 0.014442,
     "end_time": "2024-12-24T06:50:55.964155",
     "exception": false,
     "start_time": "2024-12-24T06:50:55.949713",
     "status": "completed"
    },
    "tags": []
   },
   "outputs": [
    {
     "data": {
      "text/plain": [
       "(9651, 14)"
      ]
     },
     "execution_count": 17,
     "metadata": {},
     "output_type": "execute_result"
    }
   ],
   "source": [
    "# We have same no of legitimate & fraud transactions\n",
    "\n",
    "fraud.shape"
   ]
  },
  {
   "cell_type": "code",
   "execution_count": 18,
   "id": "29df3a10",
   "metadata": {
    "execution": {
     "iopub.execute_input": "2024-12-24T06:50:55.979281Z",
     "iopub.status.busy": "2024-12-24T06:50:55.978955Z",
     "iopub.status.idle": "2024-12-24T06:50:56.001698Z",
     "shell.execute_reply": "2024-12-24T06:50:56.000909Z"
    },
    "papermill": {
     "duration": 0.032377,
     "end_time": "2024-12-24T06:50:56.003523",
     "exception": false,
     "start_time": "2024-12-24T06:50:55.971146",
     "status": "completed"
    },
    "tags": []
   },
   "outputs": [],
   "source": [
    "# Combine the data\n",
    "\n",
    "data = pd.concat([legitimate,fraud])"
   ]
  },
  {
   "cell_type": "code",
   "execution_count": 19,
   "id": "6c151f01",
   "metadata": {
    "execution": {
     "iopub.execute_input": "2024-12-24T06:50:56.024819Z",
     "iopub.status.busy": "2024-12-24T06:50:56.024468Z",
     "iopub.status.idle": "2024-12-24T06:50:56.204978Z",
     "shell.execute_reply": "2024-12-24T06:50:56.204009Z"
    },
    "papermill": {
     "duration": 0.189917,
     "end_time": "2024-12-24T06:50:56.206491",
     "exception": false,
     "start_time": "2024-12-24T06:50:56.016574",
     "status": "completed"
    },
    "tags": []
   },
   "outputs": [
    {
     "data": {
      "image/png": "[encoded data removed]",
      "text/plain": [
       "<Figure size 640x480 with 1 Axes>"
      ]
     },
     "metadata": {},
     "output_type": "display_data"
    }
   ],
   "source": [
    "# Check class distribution\n",
    "\n",
    "plt.bar(data['is_fraud'].unique(),data['is_fraud'].value_counts(),width = 0.2)\n",
    "\n",
    "plt.xlabel('Legitimate/Fraud')\n",
    "\n",
    "plt.ylabel('No of transactions')\n",
    "\n",
    "plt.show()"
   ]
  },
  {
   "cell_type": "code",
   "execution_count": 20,
   "id": "9f19b706",
   "metadata": {
    "execution": {
     "iopub.execute_input": "2024-12-24T06:50:56.222467Z",
     "iopub.status.busy": "2024-12-24T06:50:56.222205Z",
     "iopub.status.idle": "2024-12-24T06:50:56.247532Z",
     "shell.execute_reply": "2024-12-24T06:50:56.246767Z"
    },
    "papermill": {
     "duration": 0.034663,
     "end_time": "2024-12-24T06:50:56.248874",
     "exception": false,
     "start_time": "2024-12-24T06:50:56.214211",
     "status": "completed"
    },
    "tags": []
   },
   "outputs": [],
   "source": [
    "# Encoding categorical data\n",
    "\n",
    "le = LabelEncoder()\n",
    "\n",
    "data['merchant'] = le.fit_transform(data['merchant'])\n",
    "\n",
    "data['category'] = le.fit_transform(data['category'])\n",
    "\n",
    "data['city'] = le.fit_transform(data['city'])\n",
    "\n",
    "data['state'] = le.fit_transform(data['state'])"
   ]
  },
  {
   "cell_type": "code",
   "execution_count": 21,
   "id": "4056d8f9",
   "metadata": {
    "execution": {
     "iopub.execute_input": "2024-12-24T06:50:56.264360Z",
     "iopub.status.busy": "2024-12-24T06:50:56.264122Z",
     "iopub.status.idle": "2024-12-24T06:50:56.273736Z",
     "shell.execute_reply": "2024-12-24T06:50:56.272759Z"
    },
    "papermill": {
     "duration": 0.01898,
     "end_time": "2024-12-24T06:50:56.275201",
     "exception": false,
     "start_time": "2024-12-24T06:50:56.256221",
     "status": "completed"
    },
    "tags": []
   },
   "outputs": [
    {
     "name": "stdout",
     "output_type": "stream",
     "text": [
      "<class 'pandas.core.frame.DataFrame'>\n",
      "Index: 19302 entries, 47973 to 517571\n",
      "Data columns (total 14 columns):\n",
      " #   Column      Non-Null Count  Dtype  \n",
      "---  ------      --------------  -----  \n",
      " 0   cc_num      19302 non-null  int64  \n",
      " 1   merchant    19302 non-null  int64  \n",
      " 2   category    19302 non-null  int64  \n",
      " 3   amt         19302 non-null  float64\n",
      " 4   city        19302 non-null  int64  \n",
      " 5   state       19302 non-null  int64  \n",
      " 6   zip         19302 non-null  int64  \n",
      " 7   lat         19302 non-null  float64\n",
      " 8   long        19302 non-null  float64\n",
      " 9   city_pop    19302 non-null  int64  \n",
      " 10  unix_time   19302 non-null  int64  \n",
      " 11  merch_lat   19302 non-null  float64\n",
      " 12  merch_long  19302 non-null  float64\n",
      " 13  is_fraud    19302 non-null  int64  \n",
      "dtypes: float64(5), int64(9)\n",
      "memory usage: 2.2 MB\n"
     ]
    }
   ],
   "source": [
    "# All the features are numerical\n",
    "\n",
    "data.info()"
   ]
  },
  {
   "cell_type": "code",
   "execution_count": 22,
   "id": "449772ff",
   "metadata": {
    "execution": {
     "iopub.execute_input": "2024-12-24T06:50:56.290650Z",
     "iopub.status.busy": "2024-12-24T06:50:56.290419Z",
     "iopub.status.idle": "2024-12-24T06:50:56.295733Z",
     "shell.execute_reply": "2024-12-24T06:50:56.295102Z"
    },
    "papermill": {
     "duration": 0.014494,
     "end_time": "2024-12-24T06:50:56.297082",
     "exception": false,
     "start_time": "2024-12-24T06:50:56.282588",
     "status": "completed"
    },
    "tags": []
   },
   "outputs": [],
   "source": [
    "# Separating the target feature\n",
    "\n",
    "x_data = data.iloc[:,:-1].values\n",
    "\n",
    "y_data = data.iloc[:,-1].values"
   ]
  },
  {
   "cell_type": "code",
   "execution_count": 23,
   "id": "1a60f3ee",
   "metadata": {
    "execution": {
     "iopub.execute_input": "2024-12-24T06:50:56.312512Z",
     "iopub.status.busy": "2024-12-24T06:50:56.312285Z",
     "iopub.status.idle": "2024-12-24T06:50:56.318313Z",
     "shell.execute_reply": "2024-12-24T06:50:56.317626Z"
    },
    "papermill": {
     "duration": 0.015164,
     "end_time": "2024-12-24T06:50:56.319721",
     "exception": false,
     "start_time": "2024-12-24T06:50:56.304557",
     "status": "completed"
    },
    "tags": []
   },
   "outputs": [],
   "source": [
    "# Split the data for training and testing\n",
    "\n",
    "# We shuffle the data before splitting so that the model is trained on both fraud & legitimate transactions\n",
    "\n",
    "x_train,x_test,y_train,y_test = train_test_split(x_data,y_data,test_size=0.3,random_state=42,shuffle=True)"
   ]
  },
  {
   "cell_type": "code",
   "execution_count": 24,
   "id": "a0deb430",
   "metadata": {
    "execution": {
     "iopub.execute_input": "2024-12-24T06:50:56.335741Z",
     "iopub.status.busy": "2024-12-24T06:50:56.335503Z",
     "iopub.status.idle": "2024-12-24T06:50:56.374242Z",
     "shell.execute_reply": "2024-12-24T06:50:56.373371Z"
    },
    "papermill": {
     "duration": 0.049294,
     "end_time": "2024-12-24T06:50:56.376551",
     "exception": false,
     "start_time": "2024-12-24T06:50:56.327257",
     "status": "completed"
    },
    "tags": []
   },
   "outputs": [
    {
     "data": {
      "text/html": [
       "<style>#sk-container-id-1 {color: black;background-color: white;}#sk-container-id-1 pre{padding: 0;}#sk-container-id-1 div.sk-toggleable {background-color: white;}#sk-container-id-1 label.sk-toggleable__label {cursor: pointer;display: block;width: 100%;margin-bottom: 0;padding: 0.3em;box-sizing: border-box;text-align: center;}#sk-container-id-1 label.sk-toggleable__label-arrow:before {content: \"▸\";float: left;margin-right: 0.25em;color: #696969;}#sk-container-id-1 label.sk-toggleable__label-arrow:hover:before {color: black;}#sk-container-id-1 div.sk-estimator:hover label.sk-toggleable__label-arrow:before {color: black;}#sk-container-id-1 div.sk-toggleable__content {max-height: 0;max-width: 0;overflow: hidden;text-align: left;background-color: #f0f8ff;}#sk-container-id-1 div.sk-toggleable__content pre {margin: 0.2em;color: black;border-radius: 0.25em;background-color: #f0f8ff;}#sk-container-id-1 input.sk-toggleable__control:checked~div.sk-toggleable__content {max-height: 200px;max-width: 100%;overflow: auto;}#sk-container-id-1 input.sk-toggleable__control:checked~label.sk-toggleable__label-arrow:before {content: \"▾\";}#sk-container-id-1 div.sk-estimator input.sk-toggleable__control:checked~label.sk-toggleable__label {background-color: #d4ebff;}#sk-container-id-1 div.sk-label input.sk-toggleable__control:checked~label.sk-toggleable__label {background-color: #d4ebff;}#sk-container-id-1 input.sk-hidden--visually {border: 0;clip: rect(1px 1px 1px 1px);clip: rect(1px, 1px, 1px, 1px);height: 1px;margin: -1px;overflow: hidden;padding: 0;position: absolute;width: 1px;}#sk-container-id-1 div.sk-estimator {font-family: monospace;background-color: #f0f8ff;border: 1px dotted black;border-radius: 0.25em;box-sizing: border-box;margin-bottom: 0.5em;}#sk-container-id-1 div.sk-estimator:hover {background-color: #d4ebff;}#sk-container-id-1 div.sk-parallel-item::after {content: \"\";width: 100%;border-bottom: 1px solid gray;flex-grow: 1;}#sk-container-id-1 div.sk-label:hover label.sk-toggleable__label {background-color: #d4ebff;}#sk-container-id-1 div.sk-serial::before {content: \"\";position: absolute;border-left: 1px solid gray;box-sizing: border-box;top: 0;bottom: 0;left: 50%;z-index: 0;}#sk-container-id-1 div.sk-serial {display: flex;flex-direction: column;align-items: center;background-color: white;padding-right: 0.2em;padding-left: 0.2em;position: relative;}#sk-container-id-1 div.sk-item {position: relative;z-index: 1;}#sk-container-id-1 div.sk-parallel {display: flex;align-items: stretch;justify-content: center;background-color: white;position: relative;}#sk-container-id-1 div.sk-item::before, #sk-container-id-1 div.sk-parallel-item::before {content: \"\";position: absolute;border-left: 1px solid gray;box-sizing: border-box;top: 0;bottom: 0;left: 50%;z-index: -1;}#sk-container-id-1 div.sk-parallel-item {display: flex;flex-direction: column;z-index: 1;position: relative;background-color: white;}#sk-container-id-1 div.sk-parallel-item:first-child::after {align-self: flex-end;width: 50%;}#sk-container-id-1 div.sk-parallel-item:last-child::after {align-self: flex-start;width: 50%;}#sk-container-id-1 div.sk-parallel-item:only-child::after {width: 0;}#sk-container-id-1 div.sk-dashed-wrapped {border: 1px dashed gray;margin: 0 0.4em 0.5em 0.4em;box-sizing: border-box;padding-bottom: 0.4em;background-color: white;}#sk-container-id-1 div.sk-label label {font-family: monospace;font-weight: bold;display: inline-block;line-height: 1.2em;}#sk-container-id-1 div.sk-label-container {text-align: center;}#sk-container-id-1 div.sk-container {/* jupyter's `normalize.less` sets `[hidden] { display: none; }` but bootstrap.min.css set `[hidden] { display: none !important; }` so we also need the `!important` here to be able to override the default hidden behavior on the sphinx rendered scikit-learn.org. See: https://github.com/scikit-learn/scikit-learn/issues/21755 */display: inline-block !important;position: relative;}#sk-container-id-1 div.sk-text-repr-fallback {display: none;}</style><div id=\"sk-container-id-1\" class=\"sk-top-container\"><div class=\"sk-text-repr-fallback\"><pre>LogisticRegression()</pre><b>In a Jupyter environment, please rerun this cell to show the HTML representation or trust the notebook. <br />On GitHub, the HTML representation is unable to render, please try loading this page with nbviewer.org.</b></div><div class=\"sk-container\" hidden><div class=\"sk-item\"><div class=\"sk-estimator sk-toggleable\"><input class=\"sk-toggleable__control sk-hidden--visually\" id=\"sk-estimator-id-1\" type=\"checkbox\" checked><label for=\"sk-estimator-id-1\" class=\"sk-toggleable__label sk-toggleable__label-arrow\">LogisticRegression</label><div class=\"sk-toggleable__content\"><pre>LogisticRegression()</pre></div></div></div></div></div>"
      ],
      "text/plain": [
       "LogisticRegression()"
      ]
     },
     "execution_count": 24,
     "metadata": {},
     "output_type": "execute_result"
    }
   ],
   "source": [
    "log_reg = LogisticRegression()\n",
    "\n",
    "log_reg.fit(x_train,y_train)"
   ]
  },
  {
   "cell_type": "code",
   "execution_count": 25,
   "id": "c1848e12",
   "metadata": {
    "execution": {
     "iopub.execute_input": "2024-12-24T06:50:56.406787Z",
     "iopub.status.busy": "2024-12-24T06:50:56.406421Z",
     "iopub.status.idle": "2024-12-24T06:50:56.458907Z",
     "shell.execute_reply": "2024-12-24T06:50:56.457978Z"
    },
    "papermill": {
     "duration": 0.070025,
     "end_time": "2024-12-24T06:50:56.461161",
     "exception": false,
     "start_time": "2024-12-24T06:50:56.391136",
     "status": "completed"
    },
    "tags": []
   },
   "outputs": [
    {
     "name": "stdout",
     "output_type": "stream",
     "text": [
      "Accuracy score:  0.5\n",
      "Classification report:\n",
      "               precision    recall  f1-score   support\n",
      "\n",
      "           0       0.50      1.00      0.67      6756\n",
      "           1       0.00      0.00      0.00      6755\n",
      "\n",
      "    accuracy                           0.50     13511\n",
      "   macro avg       0.25      0.50      0.33     13511\n",
      "weighted avg       0.25      0.50      0.33     13511\n",
      "\n"
     ]
    }
   ],
   "source": [
    "log_pred = log_reg.predict(x_train)\n",
    "\n",
    "print(\"Accuracy score: \",round(accuracy_score(y_train,log_pred),3))\n",
    "\n",
    "print(\"Classification report:\\n\",classification_report(y_train,log_pred))"
   ]
  },
  {
   "cell_type": "code",
   "execution_count": 26,
   "id": "13a1ec08",
   "metadata": {
    "execution": {
     "iopub.execute_input": "2024-12-24T06:50:56.491167Z",
     "iopub.status.busy": "2024-12-24T06:50:56.490774Z",
     "iopub.status.idle": "2024-12-24T06:50:56.653047Z",
     "shell.execute_reply": "2024-12-24T06:50:56.652091Z"
    },
    "papermill": {
     "duration": 0.178745,
     "end_time": "2024-12-24T06:50:56.654505",
     "exception": false,
     "start_time": "2024-12-24T06:50:56.475760",
     "status": "completed"
    },
    "tags": []
   },
   "outputs": [
    {
     "data": {
      "text/html": [
       "<style>#sk-container-id-2 {color: black;background-color: white;}#sk-container-id-2 pre{padding: 0;}#sk-container-id-2 div.sk-toggleable {background-color: white;}#sk-container-id-2 label.sk-toggleable__label {cursor: pointer;display: block;width: 100%;margin-bottom: 0;padding: 0.3em;box-sizing: border-box;text-align: center;}#sk-container-id-2 label.sk-toggleable__label-arrow:before {content: \"▸\";float: left;margin-right: 0.25em;color: #696969;}#sk-container-id-2 label.sk-toggleable__label-arrow:hover:before {color: black;}#sk-container-id-2 div.sk-estimator:hover label.sk-toggleable__label-arrow:before {color: black;}#sk-container-id-2 div.sk-toggleable__content {max-height: 0;max-width: 0;overflow: hidden;text-align: left;background-color: #f0f8ff;}#sk-container-id-2 div.sk-toggleable__content pre {margin: 0.2em;color: black;border-radius: 0.25em;background-color: #f0f8ff;}#sk-container-id-2 input.sk-toggleable__control:checked~div.sk-toggleable__content {max-height: 200px;max-width: 100%;overflow: auto;}#sk-container-id-2 input.sk-toggleable__control:checked~label.sk-toggleable__label-arrow:before {content: \"▾\";}#sk-container-id-2 div.sk-estimator input.sk-toggleable__control:checked~label.sk-toggleable__label {background-color: #d4ebff;}#sk-container-id-2 div.sk-label input.sk-toggleable__control:checked~label.sk-toggleable__label {background-color: #d4ebff;}#sk-container-id-2 input.sk-hidden--visually {border: 0;clip: rect(1px 1px 1px 1px);clip: rect(1px, 1px, 1px, 1px);height: 1px;margin: -1px;overflow: hidden;padding: 0;position: absolute;width: 1px;}#sk-container-id-2 div.sk-estimator {font-family: monospace;background-color: #f0f8ff;border: 1px dotted black;border-radius: 0.25em;box-sizing: border-box;margin-bottom: 0.5em;}#sk-container-id-2 div.sk-estimator:hover {background-color: #d4ebff;}#sk-container-id-2 div.sk-parallel-item::after {content: \"\";width: 100%;border-bottom: 1px solid gray;flex-grow: 1;}#sk-container-id-2 div.sk-label:hover label.sk-toggleable__label {background-color: #d4ebff;}#sk-container-id-2 div.sk-serial::before {content: \"\";position: absolute;border-left: 1px solid gray;box-sizing: border-box;top: 0;bottom: 0;left: 50%;z-index: 0;}#sk-container-id-2 div.sk-serial {display: flex;flex-direction: column;align-items: center;background-color: white;padding-right: 0.2em;padding-left: 0.2em;position: relative;}#sk-container-id-2 div.sk-item {position: relative;z-index: 1;}#sk-container-id-2 div.sk-parallel {display: flex;align-items: stretch;justify-content: center;background-color: white;position: relative;}#sk-container-id-2 div.sk-item::before, #sk-container-id-2 div.sk-parallel-item::before {content: \"\";position: absolute;border-left: 1px solid gray;box-sizing: border-box;top: 0;bottom: 0;left: 50%;z-index: -1;}#sk-container-id-2 div.sk-parallel-item {display: flex;flex-direction: column;z-index: 1;position: relative;background-color: white;}#sk-container-id-2 div.sk-parallel-item:first-child::after {align-self: flex-end;width: 50%;}#sk-container-id-2 div.sk-parallel-item:last-child::after {align-self: flex-start;width: 50%;}#sk-container-id-2 div.sk-parallel-item:only-child::after {width: 0;}#sk-container-id-2 div.sk-dashed-wrapped {border: 1px dashed gray;margin: 0 0.4em 0.5em 0.4em;box-sizing: border-box;padding-bottom: 0.4em;background-color: white;}#sk-container-id-2 div.sk-label label {font-family: monospace;font-weight: bold;display: inline-block;line-height: 1.2em;}#sk-container-id-2 div.sk-label-container {text-align: center;}#sk-container-id-2 div.sk-container {/* jupyter's `normalize.less` sets `[hidden] { display: none; }` but bootstrap.min.css set `[hidden] { display: none !important; }` so we also need the `!important` here to be able to override the default hidden behavior on the sphinx rendered scikit-learn.org. See: https://github.com/scikit-learn/scikit-learn/issues/21755 */display: inline-block !important;position: relative;}#sk-container-id-2 div.sk-text-repr-fallback {display: none;}</style><div id=\"sk-container-id-2\" class=\"sk-top-container\"><div class=\"sk-text-repr-fallback\"><pre>DecisionTreeClassifier()</pre><b>In a Jupyter environment, please rerun this cell to show the HTML representation or trust the notebook. <br />On GitHub, the HTML representation is unable to render, please try loading this page with nbviewer.org.</b></div><div class=\"sk-container\" hidden><div class=\"sk-item\"><div class=\"sk-estimator sk-toggleable\"><input class=\"sk-toggleable__control sk-hidden--visually\" id=\"sk-estimator-id-2\" type=\"checkbox\" checked><label for=\"sk-estimator-id-2\" class=\"sk-toggleable__label sk-toggleable__label-arrow\">DecisionTreeClassifier</label><div class=\"sk-toggleable__content\"><pre>DecisionTreeClassifier()</pre></div></div></div></div></div>"
      ],
      "text/plain": [
       "DecisionTreeClassifier()"
      ]
     },
     "execution_count": 26,
     "metadata": {},
     "output_type": "execute_result"
    }
   ],
   "source": [
    "dt = DecisionTreeClassifier()\n",
    "\n",
    "dt.fit(x_train,y_train)"
   ]
  },
  {
   "cell_type": "code",
   "execution_count": 27,
   "id": "677b204d",
   "metadata": {
    "execution": {
     "iopub.execute_input": "2024-12-24T06:50:56.671695Z",
     "iopub.status.busy": "2024-12-24T06:50:56.671428Z",
     "iopub.status.idle": "2024-12-24T06:50:56.705719Z",
     "shell.execute_reply": "2024-12-24T06:50:56.704783Z"
    },
    "papermill": {
     "duration": 0.044401,
     "end_time": "2024-12-24T06:50:56.707165",
     "exception": false,
     "start_time": "2024-12-24T06:50:56.662764",
     "status": "completed"
    },
    "tags": []
   },
   "outputs": [
    {
     "name": "stdout",
     "output_type": "stream",
     "text": [
      "Accuracy score:  1.0\n",
      "Classification report:\n",
      "               precision    recall  f1-score   support\n",
      "\n",
      "           0       1.00      1.00      1.00      6756\n",
      "           1       1.00      1.00      1.00      6755\n",
      "\n",
      "    accuracy                           1.00     13511\n",
      "   macro avg       1.00      1.00      1.00     13511\n",
      "weighted avg       1.00      1.00      1.00     13511\n",
      "\n"
     ]
    }
   ],
   "source": [
    "dt_pred = dt.predict(x_train)\n",
    "\n",
    "print(\"Accuracy score: \",round(accuracy_score(y_train,dt_pred),3))\n",
    "\n",
    "print(\"Classification report:\\n\",classification_report(y_train,dt_pred))"
   ]
  },
  {
   "cell_type": "code",
   "execution_count": 28,
   "id": "502c2b93",
   "metadata": {
    "execution": {
     "iopub.execute_input": "2024-12-24T06:50:56.724653Z",
     "iopub.status.busy": "2024-12-24T06:50:56.724392Z",
     "iopub.status.idle": "2024-12-24T06:50:58.323301Z",
     "shell.execute_reply": "2024-12-24T06:50:58.322387Z"
    },
    "papermill": {
     "duration": 1.60948,
     "end_time": "2024-12-24T06:50:58.324982",
     "exception": false,
     "start_time": "2024-12-24T06:50:56.715502",
     "status": "completed"
    },
    "tags": []
   },
   "outputs": [
    {
     "data": {
      "text/html": [
       "<style>#sk-container-id-3 {color: black;background-color: white;}#sk-container-id-3 pre{padding: 0;}#sk-container-id-3 div.sk-toggleable {background-color: white;}#sk-container-id-3 label.sk-toggleable__label {cursor: pointer;display: block;width: 100%;margin-bottom: 0;padding: 0.3em;box-sizing: border-box;text-align: center;}#sk-container-id-3 label.sk-toggleable__label-arrow:before {content: \"▸\";float: left;margin-right: 0.25em;color: #696969;}#sk-container-id-3 label.sk-toggleable__label-arrow:hover:before {color: black;}#sk-container-id-3 div.sk-estimator:hover label.sk-toggleable__label-arrow:before {color: black;}#sk-container-id-3 div.sk-toggleable__content {max-height: 0;max-width: 0;overflow: hidden;text-align: left;background-color: #f0f8ff;}#sk-container-id-3 div.sk-toggleable__content pre {margin: 0.2em;color: black;border-radius: 0.25em;background-color: #f0f8ff;}#sk-container-id-3 input.sk-toggleable__control:checked~div.sk-toggleable__content {max-height: 200px;max-width: 100%;overflow: auto;}#sk-container-id-3 input.sk-toggleable__control:checked~label.sk-toggleable__label-arrow:before {content: \"▾\";}#sk-container-id-3 div.sk-estimator input.sk-toggleable__control:checked~label.sk-toggleable__label {background-color: #d4ebff;}#sk-container-id-3 div.sk-label input.sk-toggleable__control:checked~label.sk-toggleable__label {background-color: #d4ebff;}#sk-container-id-3 input.sk-hidden--visually {border: 0;clip: rect(1px 1px 1px 1px);clip: rect(1px, 1px, 1px, 1px);height: 1px;margin: -1px;overflow: hidden;padding: 0;position: absolute;width: 1px;}#sk-container-id-3 div.sk-estimator {font-family: monospace;background-color: #f0f8ff;border: 1px dotted black;border-radius: 0.25em;box-sizing: border-box;margin-bottom: 0.5em;}#sk-container-id-3 div.sk-estimator:hover {background-color: #d4ebff;}#sk-container-id-3 div.sk-parallel-item::after {content: \"\";width: 100%;border-bottom: 1px solid gray;flex-grow: 1;}#sk-container-id-3 div.sk-label:hover label.sk-toggleable__label {background-color: #d4ebff;}#sk-container-id-3 div.sk-serial::before {content: \"\";position: absolute;border-left: 1px solid gray;box-sizing: border-box;top: 0;bottom: 0;left: 50%;z-index: 0;}#sk-container-id-3 div.sk-serial {display: flex;flex-direction: column;align-items: center;background-color: white;padding-right: 0.2em;padding-left: 0.2em;position: relative;}#sk-container-id-3 div.sk-item {position: relative;z-index: 1;}#sk-container-id-3 div.sk-parallel {display: flex;align-items: stretch;justify-content: center;background-color: white;position: relative;}#sk-container-id-3 div.sk-item::before, #sk-container-id-3 div.sk-parallel-item::before {content: \"\";position: absolute;border-left: 1px solid gray;box-sizing: border-box;top: 0;bottom: 0;left: 50%;z-index: -1;}#sk-container-id-3 div.sk-parallel-item {display: flex;flex-direction: column;z-index: 1;position: relative;background-color: white;}#sk-container-id-3 div.sk-parallel-item:first-child::after {align-self: flex-end;width: 50%;}#sk-container-id-3 div.sk-parallel-item:last-child::after {align-self: flex-start;width: 50%;}#sk-container-id-3 div.sk-parallel-item:only-child::after {width: 0;}#sk-container-id-3 div.sk-dashed-wrapped {border: 1px dashed gray;margin: 0 0.4em 0.5em 0.4em;box-sizing: border-box;padding-bottom: 0.4em;background-color: white;}#sk-container-id-3 div.sk-label label {font-family: monospace;font-weight: bold;display: inline-block;line-height: 1.2em;}#sk-container-id-3 div.sk-label-container {text-align: center;}#sk-container-id-3 div.sk-container {/* jupyter's `normalize.less` sets `[hidden] { display: none; }` but bootstrap.min.css set `[hidden] { display: none !important; }` so we also need the `!important` here to be able to override the default hidden behavior on the sphinx rendered scikit-learn.org. See: https://github.com/scikit-learn/scikit-learn/issues/21755 */display: inline-block !important;position: relative;}#sk-container-id-3 div.sk-text-repr-fallback {display: none;}</style><div id=\"sk-container-id-3\" class=\"sk-top-container\"><div class=\"sk-text-repr-fallback\"><pre>RandomForestClassifier(n_estimators=50)</pre><b>In a Jupyter environment, please rerun this cell to show the HTML representation or trust the notebook. <br />On GitHub, the HTML representation is unable to render, please try loading this page with nbviewer.org.</b></div><div class=\"sk-container\" hidden><div class=\"sk-item\"><div class=\"sk-estimator sk-toggleable\"><input class=\"sk-toggleable__control sk-hidden--visually\" id=\"sk-estimator-id-3\" type=\"checkbox\" checked><label for=\"sk-estimator-id-3\" class=\"sk-toggleable__label sk-toggleable__label-arrow\">RandomForestClassifier</label><div class=\"sk-toggleable__content\"><pre>RandomForestClassifier(n_estimators=50)</pre></div></div></div></div></div>"
      ],
      "text/plain": [
       "RandomForestClassifier(n_estimators=50)"
      ]
     },
     "execution_count": 28,
     "metadata": {},
     "output_type": "execute_result"
    }
   ],
   "source": [
    "rfc = RandomForestClassifier(n_estimators = 50)\n",
    "\n",
    "rfc.fit(x_train,y_train)"
   ]
  },
  {
   "cell_type": "code",
   "execution_count": 29,
   "id": "7f91a2ed",
   "metadata": {
    "execution": {
     "iopub.execute_input": "2024-12-24T06:50:58.343026Z",
     "iopub.status.busy": "2024-12-24T06:50:58.342721Z",
     "iopub.status.idle": "2024-12-24T06:50:58.463043Z",
     "shell.execute_reply": "2024-12-24T06:50:58.461948Z"
    },
    "papermill": {
     "duration": 0.130447,
     "end_time": "2024-12-24T06:50:58.464419",
     "exception": false,
     "start_time": "2024-12-24T06:50:58.333972",
     "status": "completed"
    },
    "tags": []
   },
   "outputs": [
    {
     "name": "stdout",
     "output_type": "stream",
     "text": [
      "Accuracy score:  1.0\n",
      "Classification report:\n",
      "               precision    recall  f1-score   support\n",
      "\n",
      "           0       1.00      1.00      1.00      6756\n",
      "           1       1.00      1.00      1.00      6755\n",
      "\n",
      "    accuracy                           1.00     13511\n",
      "   macro avg       1.00      1.00      1.00     13511\n",
      "weighted avg       1.00      1.00      1.00     13511\n",
      "\n"
     ]
    }
   ],
   "source": [
    "rfc_pred = rfc.predict(x_train)\n",
    "\n",
    "print(\"Accuracy score: \",round(accuracy_score(y_train,rfc_pred),3))\n",
    "\n",
    "print(\"Classification report:\\n\",classification_report(y_train,rfc_pred))"
   ]
  },
  {
   "cell_type": "markdown",
   "id": "a281917c",
   "metadata": {
    "papermill": {
     "duration": 0.007925,
     "end_time": "2024-12-24T06:50:58.480682",
     "exception": false,
     "start_time": "2024-12-24T06:50:58.472757",
     "status": "completed"
    },
    "tags": []
   },
   "source": [
    "#### Both Decision Tree & Random Forest classifier is overfitting the data. Hence, we'll have to make predictions using Logistic Regression"
   ]
  },
  {
   "cell_type": "code",
   "execution_count": 30,
   "id": "d99f0862",
   "metadata": {
    "execution": {
     "iopub.execute_input": "2024-12-24T06:50:58.497575Z",
     "iopub.status.busy": "2024-12-24T06:50:58.497315Z",
     "iopub.status.idle": "2024-12-24T06:50:58.527594Z",
     "shell.execute_reply": "2024-12-24T06:50:58.524816Z"
    },
    "papermill": {
     "duration": 0.040916,
     "end_time": "2024-12-24T06:50:58.529578",
     "exception": false,
     "start_time": "2024-12-24T06:50:58.488662",
     "status": "completed"
    },
    "tags": []
   },
   "outputs": [
    {
     "name": "stdout",
     "output_type": "stream",
     "text": [
      "Accuracy score:  0.5\n",
      "Classification report:\n",
      "               precision    recall  f1-score   support\n",
      "\n",
      "           0       0.50      1.00      0.67      2895\n",
      "           1       0.00      0.00      0.00      2896\n",
      "\n",
      "    accuracy                           0.50      5791\n",
      "   macro avg       0.25      0.50      0.33      5791\n",
      "weighted avg       0.25      0.50      0.33      5791\n",
      "\n"
     ]
    }
   ],
   "source": [
    "test_pred = log_reg.predict(x_test)\n",
    "\n",
    "print(\"Accuracy score: \",round(accuracy_score(y_test,test_pred),3))\n",
    "\n",
    "print(\"Classification report:\\n\",classification_report(y_test,test_pred))"
   ]
  },
  {
   "cell_type": "markdown",
   "id": "e5aa2edf",
   "metadata": {
    "papermill": {
     "duration": 0.014763,
     "end_time": "2024-12-24T06:50:58.559707",
     "exception": false,
     "start_time": "2024-12-24T06:50:58.544944",
     "status": "completed"
    },
    "tags": []
   },
   "source": [
    "#### Our model detects fraudulent transactions with an accuracy of 50%"
   ]
  }
 ],
 "metadata": {
  "kaggle": {
   "accelerator": "none",
   "dataSources": [
    {
     "datasetId": 817870,
     "sourceId": 1399887,
     "sourceType": "datasetVersion"
    }
   ],
   "dockerImageVersionId": 30822,
   "isGpuEnabled": false,
   "isInternetEnabled": true,
   "language": "python",
   "sourceType": "notebook"
  },
  "kernelspec": {
   "display_name": "Python 3",
   "language": "python",
   "name": "python3"
  },
  "language_info": {
   "codemirror_mode": {
    "name": "ipython",
    "version": 3
   },
   "file_extension": ".py",
   "mimetype": "text/x-python",
   "name": "python",
   "nbconvert_exporter": "python",
   "pygments_lexer": "ipython3",
   "version": "3.10.12"
  },
  "papermill": {
   "default_parameters": {},
   "duration": 26.288029,
   "end_time": "2024-12-24T06:50:59.193089",
   "environment_variables": {},
   "exception": null,
   "input_path": "__notebook__.ipynb",
   "output_path": "__notebook__.ipynb",
   "parameters": {},
   "start_time": "2024-12-24T06:50:32.905060",
   "version": "2.6.0"
  }
 },
 "nbformat": 4,
 "nbformat_minor": 5
}
